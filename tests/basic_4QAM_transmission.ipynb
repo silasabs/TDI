{
 "cells": [
  {
   "cell_type": "markdown",
   "metadata": {},
   "source": [
    "# Simula um sistema básico de transmissão 4-QAM"
   ]
  },
  {
   "cell_type": "code",
   "execution_count": 1,
   "metadata": {},
   "outputs": [],
   "source": [
    "import numpy as np\n",
    "from ctypes import *\n",
    "import matplotlib.pyplot as plt\n",
    "\n",
    "from optic.dsp.core import upsample, pnorm, pulseShape, firFilter\n",
    "from optic.comm.modulation import modulateGray, GrayMapping\n",
    "from optic.plot import eyediagram\n",
    "\n",
    "# Define uma classe que herda Structure para representação de números complexos.\n",
    "class Complex(Structure):\n",
    "    _fields_ = [(\"real\", c_float),\n",
    "                (\"imaginary\", c_float)]\n",
    "    \n",
    "# define o tipo \"np.complex64\" para matrizes numpy como parâmetro de entrada\n",
    "npArrayTypeComplex = np.ctypeslib.ndpointer(dtype=np.complex64, flags=\"C_CONTIGUOUS\")\n",
    "\n",
    "def tuple2numpy(arr):\n",
    "    \"\"\" \n",
    "    Converte um determinada tuple em um array\n",
    "    numpy, (real, imag) --> np.array\n",
    "    Args:\n",
    "        arr (tuple): tuple contendo valores reais e imaginários\n",
    "    Returns:\n",
    "        np.array: array numpy de tipo complexo.\n",
    "    \"\"\"\n",
    "    return np.array([complex(x[0], x[1]) for x in arr], dtype=np.complex64)\n",
    "\n",
    "def c2py(arr, shape):\n",
    "    \"\"\"_summary_\n",
    "    Args:\n",
    "        arr (class '__main__.LP_Complex'): matriz de conversão para numpy\n",
    "        shape (int): comprimento do array para 1D\n",
    "    Returns:\n",
    "        arr (np.array): matriz do tipo numpy unidimensional.\n",
    "    \"\"\"\n",
    "    arr = np.ctypeslib.as_array(arr, shape=(shape,))\n",
    "    return tuple2numpy(arr)"
   ]
  }
 ],
 "metadata": {
  "kernelspec": {
   "display_name": "base",
   "language": "python",
   "name": "python3"
  },
  "language_info": {
   "codemirror_mode": {
    "name": "ipython",
    "version": 3
   },
   "file_extension": ".py",
   "mimetype": "text/x-python",
   "name": "python",
   "nbconvert_exporter": "python",
   "pygments_lexer": "ipython3",
   "version": "3.11.4"
  }
 },
 "nbformat": 4,
 "nbformat_minor": 2
}
