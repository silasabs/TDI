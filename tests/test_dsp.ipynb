{
 "cells": [
  {
   "cell_type": "code",
   "execution_count": 2,
   "metadata": {},
   "outputs": [],
   "source": [
    "import numpy as np\n",
    "from ctypes import *\n",
    "import matplotlib.pyplot as plt\n",
    "\n",
    "from optic.dsp.core import upsample, pnorm\n",
    "from optic.comm.modulation import modulateGray"
   ]
  },
  {
   "cell_type": "markdown",
   "metadata": {},
   "source": [
    "### Tests the generation of a random bit sequence"
   ]
  },
  {
   "cell_type": "code",
   "execution_count": 3,
   "metadata": {},
   "outputs": [],
   "source": [
    "outFile = \"/home/silas/Documents/GitHub/TDI/src/dsp.so\"\n",
    "dsp = CDLL(outFile)\n",
    "\n",
    "dsp.getRandomBits.argtypes = [c_int]\n",
    "dsp.getRandomBits.restype  = POINTER(c_int)"
   ]
  },
  {
   "cell_type": "code",
   "execution_count": 4,
   "metadata": {},
   "outputs": [],
   "source": [
    "M = 16\n",
    "Nbits = int(1e5*np.log2(M))\n",
    "\n",
    "bits   = dsp.getRandomBits(Nbits, M)\n",
    "# converte o ponteiro para um array numpy\n",
    "bitsTx = np.ctypeslib.as_array(bits, shape=(Nbits,))"
   ]
  },
  {
   "cell_type": "code",
   "execution_count": 5,
   "metadata": {},
   "outputs": [
    {
     "data": {
      "text/plain": [
       "(400000,)"
      ]
     },
     "execution_count": 5,
     "metadata": {},
     "output_type": "execute_result"
    },
    {
     "data": {
      "image/png": "[encoded data removed]",
      "text/plain": [
       "<Figure size 640x480 with 1 Axes>"
      ]
     },
     "metadata": {},
     "output_type": "display_data"
    }
   ],
   "source": [
    "# imprime as primeiras 10 amostras de Nbits\n",
    "plt.stem(bitsTx[0:15]);\n",
    "bitsTx.shape"
   ]
  },
  {
   "cell_type": "markdown",
   "metadata": {},
   "source": [
    "### Test for normalization in power"
   ]
  },
  {
   "cell_type": "code",
   "execution_count": 6,
   "metadata": {},
   "outputs": [],
   "source": [
    "# Definindo a estrutura para representar números complexos\n",
    "class Complex(Structure):\n",
    "    _fields_ = [(\"real\", c_float),\n",
    "                (\"imaginary\", c_float)]\n",
    "\n",
    "# funções auxiliares.\n",
    "def complex2ctypes(numbers):\n",
    "    return (Complex * len(numbers))(*(Complex(*index) for index in numbers))\n",
    "\n",
    "def pointer2complex(arr, length):\n",
    "    return [(arr[i].real, arr[i].imaginary) for i in range(length)]\n",
    "\n",
    "def tuple2numpy(arr):\n",
    "    return np.array([complex(x[0], x[1]) for x in arr], dtype=np.complex64)"
   ]
  },
  {
   "cell_type": "markdown",
   "metadata": {},
   "source": [
    "### Define complex numbers as tuples"
   ]
  },
  {
   "cell_type": "code",
   "execution_count": 7,
   "metadata": {},
   "outputs": [],
   "source": [
    "dsp.pnorm.restype = POINTER(Complex)            \n",
    "dsp.pnorm.argtypes = [POINTER(Complex), c_int]\n",
    "\n",
    "nums = [(1.0, 2.0), (3.0, 4.0)]     # define uma tuple como 1.0+2j, 3.0+4.0j\n",
    "nums_array = complex2ctypes(nums)   # compatível com <complex.h>\n",
    "\n",
    "result_ptr = dsp.pnorm(nums_array, len(nums))\n",
    "result_ptr = pointer2complex(result_ptr, len(nums))"
   ]
  },
  {
   "cell_type": "markdown",
   "metadata": {},
   "source": [
    "### Define complex numbers as numpy array"
   ]
  },
  {
   "cell_type": "code",
   "execution_count": 8,
   "metadata": {},
   "outputs": [
    {
     "name": "stdout",
     "output_type": "stream",
     "text": [
      "C code: [0.2581989+0.5163978j 0.7745967+1.0327955j] \n",
      "OptiCommPy: [0.25819889+0.51639778j 0.77459667+1.03279556j]\n"
     ]
    }
   ],
   "source": [
    "dsp.pnorm.restype = POINTER(Complex)\n",
    "dsp.pnorm.argtypes = [np.ctypeslib.ndpointer(dtype=np.complex64, flags=\"C_CONTIGUOUS\"), c_int]\n",
    "\n",
    "nums = np.array([1.0 + 2.0j, 3.0 + 4.0j], dtype=np.complex64)\n",
    "\n",
    "# chame a função pnorm\n",
    "result_ptr = dsp.pnorm(nums, len(nums))\n",
    "result_ptr = np.ctypeslib.as_array(result_ptr, shape=(nums.size,))\n",
    "\n",
    "# compare o resultado\n",
    "print(f\"C code: {tuple2numpy(result_ptr)} \\nOptiCommPy: {pnorm(np.array([1.0+2.0j, 3.0+4.0j]))}\")"
   ]
  },
  {
   "cell_type": "code",
   "execution_count": null,
   "metadata": {},
   "outputs": [],
   "source": [
    "SpS = 16\n",
    "bits = np.array([0,1,0,0,0,0,1,1,1,1,1,1,1,1,0,1])\n",
    "symbTx = modulateGray(bits, 4, \"qam\")\n",
    "symbTx = pnorm(symbTx)\n",
    "\n",
    "symbolsUp = upsample(symbTx, SpS)\n",
    "symbolsUp"
   ]
  }
 ],
 "metadata": {
  "kernelspec": {
   "display_name": "base",
   "language": "python",
   "name": "python3"
  },
  "language_info": {
   "codemirror_mode": {
    "name": "ipython",
    "version": 3
   },
   "file_extension": ".py",
   "mimetype": "text/x-python",
   "name": "python",
   "nbconvert_exporter": "python",
   "pygments_lexer": "ipython3",
   "version": "3.11.4"
  }
 },
 "nbformat": 4,
 "nbformat_minor": 2
}
